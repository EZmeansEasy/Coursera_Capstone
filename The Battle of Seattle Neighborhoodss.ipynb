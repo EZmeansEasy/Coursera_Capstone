{
    "cells": [
        {
            "metadata": {
                "collapsed": true
            },
            "cell_type": "markdown",
            "source": "# IBM Applied Data Science Capstone Project: The Battle of Seattle Neighborhoods"
        },
        {
            "metadata": {},
            "cell_type": "markdown",
            "source": "## Table of Contents\n> Introduction<br>\n> Data and Sources<br>\n> Methodology<br>\n> Analysis<br>\n> Results and Discussion<br>\n> Conclusion",
            "attachments": {}
        },
        {
            "metadata": {},
            "cell_type": "markdown",
            "source": "## Introduction"
        },
        {
            "metadata": {},
            "cell_type": "markdown",
            "source": "Graduating from college is a big deal! My parents are just as excited as I am, and they were planning to fly to Seattle to attend my graduation. Unfortunately, the plan is cancelled due to the COVID-19 outbreak\u2026 But if they were to come here in Seattle to attend my college graduation, where would be the best location for them to stay? The most ideal location should be close to local attractions, nearby restaurants, public transportation, and more importantly, it can\u2019t be too far from my school! In this project, I will be using what we learned in this course to try to find this ideal location. "
        },
        {
            "metadata": {},
            "cell_type": "markdown",
            "source": "## Data and Sources"
        },
        {
            "metadata": {},
            "cell_type": "markdown",
            "source": "I will need to search for or generate the following data to solve the problem:\n> \u2022\tCoordinates of my school (University of Washington) using Google Maps API geocoding<br>\n\u2022\tCenters of candidate areas and their approximate addresses using Google Maps API geocoding<br>\n\u2022\tNumber of restaurants and their ratings in every candidate neighborhood using Foursquare API<br>\n\u2022\tNumber of attractions in every candidate neighborhood using Foursquare API",
            "attachments": {}
        },
        {
            "metadata": {},
            "cell_type": "markdown",
            "source": "## Methodology"
        },
        {
            "metadata": {},
            "cell_type": "markdown",
            "source": "## Analysis"
        },
        {
            "metadata": {},
            "cell_type": "markdown",
            "source": "## Results and Discussion"
        },
        {
            "metadata": {},
            "cell_type": "markdown",
            "source": "## Conclusion"
        },
        {
            "metadata": {},
            "cell_type": "code",
            "source": "",
            "execution_count": null,
            "outputs": []
        }
    ],
    "metadata": {
        "kernelspec": {
            "name": "python3",
            "display_name": "Python 3.6",
            "language": "python"
        },
        "language_info": {
            "name": "python",
            "version": "3.6.9",
            "mimetype": "text/x-python",
            "codemirror_mode": {
                "name": "ipython",
                "version": 3
            },
            "pygments_lexer": "ipython3",
            "nbconvert_exporter": "python",
            "file_extension": ".py"
        }
    },
    "nbformat": 4,
    "nbformat_minor": 1
}