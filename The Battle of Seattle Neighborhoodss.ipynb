{
    "cells": [
        {
            "cell_type": "markdown",
            "metadata": {
                "collapsed": true
            },
            "source": "# IBM Applied Data Science Capstone Project: The Battle of Seattle Neighborhoods"
        },
        {
            "attachments": {},
            "cell_type": "markdown",
            "metadata": {},
            "source": "## Table of Contents\n> Introduction\\\n> Data and Sources\\\n> Methodology\\\n> Analysis\\\n> Results and Discussion\\\n> Conclusion"
        },
        {
            "cell_type": "markdown",
            "metadata": {},
            "source": "## Introduction"
        },
        {
            "cell_type": "markdown",
            "metadata": {},
            "source": "Graduating from college is a big deal! My parents are just as excited as I am, and they were planning to fly to Seattle to attend my graduation. Unfortunately, the plan is cancelled due to the COVID-19 outbreak\u2026 But if they were to come here in Seattle to attend my college graduation, where would be the best location for them to stay? The most ideal location should be close to local attractions, nearby restaurants, public transportation, and more importantly, it can\u2019t be too far from my school! In this project, I will be using what we learned in this course to try to find this ideal location. "
        },
        {
            "cell_type": "markdown",
            "metadata": {},
            "source": "## Data and Sources"
        },
        {
            "attachments": {},
            "cell_type": "markdown",
            "metadata": {},
            "source": "I will need to search for or generate the following data to solve the problem:\n> \u2022\tCoordinates of my school (University of Washington) using Google Maps API geocoding\\\n\u2022\tCenters of candidate areas and their approximate addresses using Google Maps API geocoding\\\n\u2022\tNumber of restaurants and their ratings in every candidate neighborhood using Foursquare API\\\n\u2022\tNumber of attractions in every candidate neighborhood using Foursquare API"
        },
        {
            "cell_type": "markdown",
            "metadata": {},
            "source": "## Methodology"
        },
        {
            "cell_type": "markdown",
            "metadata": {},
            "source": "## Analysis"
        },
        {
            "cell_type": "markdown",
            "metadata": {},
            "source": "## Results and Discussion"
        },
        {
            "cell_type": "markdown",
            "metadata": {},
            "source": "## Conclusion"
        },
        {
            "cell_type": "code",
            "execution_count": null,
            "metadata": {},
            "outputs": [],
            "source": ""
        }
    ],
    "metadata": {
        "kernelspec": {
            "display_name": "Python 3.6",
            "language": "python",
            "name": "python3"
        },
        "language_info": {
            "codemirror_mode": {
                "name": "ipython",
                "version": 3
            },
            "file_extension": ".py",
            "mimetype": "text/x-python",
            "name": "python",
            "nbconvert_exporter": "python",
            "pygments_lexer": "ipython3",
            "version": "3.6.9"
        }
    },
    "nbformat": 4,
    "nbformat_minor": 1
}